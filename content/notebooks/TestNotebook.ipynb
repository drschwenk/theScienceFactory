{
 "worksheets": [
  {
   "cells": [
    {
     "cell_type": "heading",
     "metadata": {},
     "level": 2,
     "source": [
      "This Is An IPython Notebook"
     ]
    },
    {
     "cell_type": "markdown",
     "metadata": {},
     "source": [
      "Here is some code:"
     ]
    },
    {
     "cell_type": "code",
     "metadata": {},
     "outputs": [
      {
       "output_type": "stream",
       "stream": "stdout",
       "text": [
        "[ 0.25463203  0.55637185  0.02743774  0.57380221  0.52378531  0.95099357\n",
        "  0.70975568  0.19575853  0.589227    0.06959599]\n"
       ]
      }
     ],
     "input": [
      "import numpy\n",
      "print numpy.random.random(10)"
     ],
     "language": "python",
     "prompt_number": 1
    },
    {
     "cell_type": "markdown",
     "metadata": {},
     "source": [
      "Here is some math:\n",
      "\n",
      "$$e^{i\\pi} + 1 = 0$$"
     ]
    },
    {
     "cell_type": "code",
     "metadata": {},
     "outputs": [],
     "input": [
      ""
     ],
     "language": "python"
    }
   ]
  }
 ],
 "cells": [],
 "metadata": {
  "name": "TestNotebook"
 },
 "nbformat": 3,
 "nbformat_minor": 0
}